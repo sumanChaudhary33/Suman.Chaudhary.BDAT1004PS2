{
 "cells": [
  {
   "cell_type": "code",
   "execution_count": 3,
   "id": "e2ea7de9",
   "metadata": {},
   "outputs": [
    {
     "data": {
      "text/plain": [
       "6"
      ]
     },
     "execution_count": 3,
     "metadata": {},
     "output_type": "execute_result"
    }
   ],
   "source": [
    "# QUESTION 1\n",
    "\n",
    "a = 0\n",
    "\n",
    "def b():\n",
    "    global a\n",
    "    a= c(a)\n",
    "    \n",
    "def c(a):\n",
    "    return a+2\n",
    "b() \n",
    "b() \n",
    "b() \n",
    "a "
   ]
  },
  {
   "cell_type": "markdown",
   "id": "6777a49e",
   "metadata": {},
   "source": [
    "#ANSWER TO QUESTION 1\n",
    "When the last expression 'a' is evaluated, 6 is displayed as an output.\n",
    "\n",
    "1. a=0 -> initialization of the a=0\n",
    "2. def b() -> function b is defined\n",
    "3. global a -> inside the function a global variable a is declared\n",
    "4. a= c(a) function holding the current value 0, the c(a) function returns a + 2, so a is updated to 0 + 2, which is 2.\n",
    "5. b() is called again. The function is executed again and the same process repeats and the a is update to 4\n",
    "6. b() is once again called. a is updated from 4 to 6\n",
    "7. a is evalueted after 3 calls to b() and holds 6. So, 6 is displayed as an output."
   ]
  },
  {
   "cell_type": "code",
   "execution_count": 4,
   "id": "e33a831a",
   "metadata": {},
   "outputs": [
    {
     "name": "stdout",
     "output_type": "stream",
     "text": [
      "396\n"
     ]
    }
   ],
   "source": [
    "# QUESTION 2\n",
    "\n",
    "def file_length(file_name):\n",
    "    file = open(file_name)\n",
    "    contents = file.read()\n",
    "    file.close()\n",
    "    print(len(contents))\n",
    "file_length(\"W3c.txt\")"
   ]
  },
  {
   "cell_type": "code",
   "execution_count": 31,
   "id": "b6c371cd",
   "metadata": {},
   "outputs": [
    {
     "name": "stdout",
     "output_type": "stream",
     "text": [
      "the file w3.txt was not found\n"
     ]
    }
   ],
   "source": [
    "def fileLength(filename):\n",
    "    try:\n",
    "        file = open(filename)\n",
    "        contents = file.read()\n",
    "        file.close()\n",
    "        length = len(contents)\n",
    "        print(length)\n",
    "    except FileNotFoundError:\n",
    "        print(\"the file {} was not found\".format(filename))\n",
    "fileLength(\"w3.txt\")"
   ]
  },
  {
   "cell_type": "code",
   "execution_count": 32,
   "id": "2548f4cd",
   "metadata": {},
   "outputs": [
    {
     "name": "stdout",
     "output_type": "stream",
     "text": [
      "['test', 'firetruck', 'kitten']\n",
      "I am a Kangaroo located at coordinate (0,0)\n",
      "['doll', 'firetruck', 'kitten']\n",
      "I am a Kangaroo located at coordinate (3,0)\n"
     ]
    }
   ],
   "source": [
    "#QUESTION 3\n",
    "\n",
    "class Marsupial:\n",
    "    def __init__(self):\n",
    "        self.collection_lst = []\n",
    "    \n",
    "    def put_in_pouch(self,collection):\n",
    "        self.collection_lst.append(collection)\n",
    "        \n",
    "    def pouch_content(self):\n",
    "        print(self.collection_lst)\n",
    "m =Marsupial()\n",
    "m.put_in_pouch(\"test\")\n",
    "m.put_in_pouch(\"firetruck\")\n",
    "m.put_in_pouch(\"kitten\")\n",
    "\n",
    "m.pouch_content()\n",
    "class Kangaroo(Marsupial):\n",
    "    def __init__(self, x,y):\n",
    "        super().__init__()  \n",
    "        self.x=x\n",
    "        self.y=y\n",
    "        \n",
    "    def jump(self,dx,dy):\n",
    "        self.x+=dx\n",
    "        self.y+=dy\n",
    "    \n",
    "    def __str__(self):\n",
    "        return \"I am a Kangaroo located at coordinate ({},{})\".format(self.x,self.y)\n",
    "\n",
    "k = Kangaroo(0,0)\n",
    "\n",
    "print(k)\n",
    "k.put_in_pouch(\"doll\")\n",
    "k.put_in_pouch(\"firetruck\")\n",
    "k.put_in_pouch(\"kitten\")\n",
    "k.pouch_content()\n",
    "k.jump(1,0)\n",
    "k.jump(1,0)\n",
    "k.jump(1,0)\n",
    "print(k)"
   ]
  },
  {
   "cell_type": "code",
   "execution_count": 33,
   "id": "174b858a",
   "metadata": {},
   "outputs": [
    {
     "name": "stdout",
     "output_type": "stream",
     "text": [
      "1\n",
      "10\n",
      "5\n",
      "16\n",
      "8\n",
      "4\n",
      "2\n",
      "1\n"
     ]
    }
   ],
   "source": [
    "#QUESTION 4\n",
    "\n",
    "def collatz(x):\n",
    "    print(x)  \n",
    "    if x == 1:\n",
    "        return  \n",
    "    if x % 2 == 0:\n",
    "        collatz(x // 2)\n",
    "    else:\n",
    "        collatz(3 * x + 1) \n",
    "collatz(1)\n",
    "collatz(10)\n"
   ]
  },
  {
   "cell_type": "code",
   "execution_count": 34,
   "id": "97b57593",
   "metadata": {},
   "outputs": [
    {
     "name": "stdout",
     "output_type": "stream",
     "text": [
      "Enter a non-negative integer: 5\n",
      "The binary number: 0101"
     ]
    }
   ],
   "source": [
    "#QUESTION 5\n",
    "def binary(n):\n",
    "    if n == 0:\n",
    "        print(0, end='')\n",
    "    else:\n",
    "        binary(n // 2)\n",
    "        print(n % 2, end='')\n",
    "\n",
    "number = int(input(\"Enter a non-negative integer: \"))\n",
    "print(\"The binary number:\", end=' ')\n",
    "binary(number)"
   ]
  },
  {
   "cell_type": "code",
   "execution_count": 1,
   "id": "21b6ba0f",
   "metadata": {},
   "outputs": [
    {
     "name": "stdout",
     "output_type": "stream",
     "text": [
      "W3C Mission\n",
      " Principles\n"
     ]
    }
   ],
   "source": [
    "# QUESTION 6\n",
    "\n",
    "from html.parser import HTMLParser\n",
    "class HeadingParser(HTMLParser):\n",
    "    def __init__(self):\n",
    "        super().__init__()\n",
    "        self.in_heading = False\n",
    "        self.indentation = 0\n",
    "    def handle_starttag(self, tag, attrs):\n",
    "        if tag.startswith(\"h\") and len(tag) == 2 and tag[1].isdigit():\n",
    "            self.in_heading = True\n",
    "            self.indentation = int(tag[1]) - 1\n",
    "    def handle_endtag(self, tag):\n",
    "        if self.in_heading:\n",
    "            self.in_heading = False\n",
    "            self.indentation = 0\n",
    "    def handle_data(self, data):\n",
    "        if self.in_heading:\n",
    "            print(\" \" * self.indentation + data)\n",
    "if __name__ == \"__main__\":\n",
    "    infile = open(\"w3c.html\")\n",
    "    content = infile.read()\n",
    "    infile.close()\n",
    "\n",
    "    hp = HeadingParser()\n",
    "    hp.feed(content)\n"
   ]
  },
  {
   "cell_type": "code",
   "execution_count": 1,
   "id": "4175fbda",
   "metadata": {},
   "outputs": [
    {
     "name": "stdout",
     "output_type": "stream",
     "text": [
      "Error accessing http://reed.cs.depaul.edu/lperkovic/csc242/test1.html: 404 Client Error:  for url: http://reed.cs.depaul.edu/lperkovic/csc242/test1.html\n"
     ]
    }
   ],
   "source": [
    "#QUESTION 7\n",
    "import requests\n",
    "from bs4 import BeautifulSoup\n",
    "\n",
    "def webdir(url, depth, indent):\n",
    "    if depth >= 0:\n",
    "        try:\n",
    "            response = requests.get(url)\n",
    "            response.raise_for_status()\n",
    "            soup = BeautifulSoup(response.text, 'html.parser')\n",
    "            print(' ' * indent + url)\n",
    "            if depth > 0:\n",
    "                links = soup.find_all('a')\n",
    "                for link in links:\n",
    "                    next_url = link.get('href')\n",
    "                    if next_url and next_url.startswith('http'):\n",
    "                        webdir(next_url, depth - 1, indent + 2)\n",
    "        except requests.exceptions.RequestException as e:\n",
    "            print(' ' * indent + f\"Error accessing {url}: {str(e)}\")\n",
    "webdir('http://reed.cs.depaul.edu/lperkovic/csc242/test1.html', 2, 0)\n"
   ]
  },
  {
   "cell_type": "code",
   "execution_count": null,
   "id": "694cc954",
   "metadata": {},
   "outputs": [],
   "source": [
    "#QUESTION 8\n",
    "\n",
    "#a. All the temperature data:\n",
    "SELECT Temperature FROM given_table;\n",
    "\n",
    "#b) All the cities, but without repetition.\n",
    "SELECT DISTINCT City FROM given_table;\n",
    "\n",
    "#c) All the records for India.\n",
    "SELECT * FROM given_table \n",
    "WHERE Country = 'India';\n",
    "\n",
    "#d) All the Fall records.\n",
    "SELECT * FROM given_table_name \n",
    "WHERE Season = 'Fall';\n",
    "\n",
    "#e) The city, country, and season for which the average rainfall is between 200 and 400 millimeters:\n",
    "SELECT City, Country, Season FROM given_table \n",
    "GROUP BY City, Country, Season HAVING AVG(Rainfall) BETWEEN 200 AND 400;\n",
    "\n",
    "#f) The city and country for which the average Fall temperature is above 20 degrees, in increasing temperature order:\n",
    "SELECT City, Country FROM given_table \n",
    "WHERE Season = 'Fall' \n",
    "GROUP BY City, Country HAVING AVG(Temperature) > 20 ORDER BY AVG(Temperature) ASC;\n",
    "\n",
    "#g) The total annual rainfall for Cairo:\n",
    "SELECT City, Country, Season, AVG(Rainfall) AS TotalRainfall FROM given_table \n",
    "WHERE City = 'Cairo'\n",
    "GROUP BY City, Country, Season;\n",
    "\n",
    "#h) The total rainfall for each season:\n",
    "SELECT Season, AVG(Rainfall) AS TotalRainfall FROM given_table \n",
    "GROUP BY Season;"
   ]
  },
  {
   "cell_type": "code",
   "execution_count": 35,
   "id": "3b52b36c",
   "metadata": {},
   "outputs": [
    {
     "name": "stdout",
     "output_type": "stream",
     "text": [
      "['THE', 'QUICK', 'BROWN', 'FOX', 'JUMPS', 'OVER', 'THE', 'LAZY', 'DOG']\n",
      "['the', 'quick', 'brown', 'fox', 'jumps', 'over', 'the', 'lazy', 'dog']\n",
      "[3, 5, 5, 3, 5, 4, 3, 4, 3]\n",
      "[['THE', 'the', 3], ['QUICK', 'quick', 5], ['BROWN', 'brown', 5], ['FOX', 'fox', 3], ['JUMPS', 'jumps', 5], ['OVER', 'over', 4], ['THE', 'the', 3], ['LAZY', 'lazy', 4], ['DOG', 'dog', 3]]\n",
      "['quick', 'brown', 'jumps', 'over', 'lazy']\n"
     ]
    }
   ],
   "source": [
    "#QUESTION 9\n",
    "\n",
    "words = ['The', 'quick', 'brown', 'fox', 'jumps', 'over','the', 'lazy', 'dog']\n",
    "upper_words=[]\n",
    "for w in words:\n",
    "    upper_words.append(w.upper())\n",
    "print(upper_words)\n",
    "lower_words =[]\n",
    "for w in words:\n",
    "    lower_words.append(w.lower())\n",
    "print(lower_words)\n",
    "count =[]\n",
    "for w in words:\n",
    "    count.append(len(w))\n",
    "print(count)\n",
    "final_list = []\n",
    "for w in words:\n",
    "    info = [w.upper(), w.lower(), len(w)]\n",
    "    final_list.append(info)\n",
    "print(final_list)\n",
    "four_character_words =[]\n",
    "for w in words:\n",
    "    if len(w)>= 4:\n",
    "        four_character_words.append(w)\n",
    "print (four_character_words)"
   ]
  },
  {
   "cell_type": "code",
   "execution_count": null,
   "id": "49f69551",
   "metadata": {},
   "outputs": [],
   "source": []
  }
 ],
 "metadata": {
  "kernelspec": {
   "display_name": "Python 3 (ipykernel)",
   "language": "python",
   "name": "python3"
  },
  "language_info": {
   "codemirror_mode": {
    "name": "ipython",
    "version": 3
   },
   "file_extension": ".py",
   "mimetype": "text/x-python",
   "name": "python",
   "nbconvert_exporter": "python",
   "pygments_lexer": "ipython3",
   "version": "3.11.4"
  }
 },
 "nbformat": 4,
 "nbformat_minor": 5
}
